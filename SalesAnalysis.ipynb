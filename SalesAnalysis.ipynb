{
 "cells": [
  {
   "cell_type": "code",
   "execution_count": 3,
   "id": "e238ac2f-0e22-4712-b8ec-0e6d1bba91dc",
   "metadata": {},
   "outputs": [],
   "source": [
    "import pandas as pd\n",
    "AM = pd.read_csv('AusApparalSales4thQrt2020.csv')"
   ]
  },
  {
   "cell_type": "code",
   "execution_count": 4,
   "id": "8c5a35d4-6ce2-4d1c-8ae5-a9818df0c07b",
   "metadata": {},
   "outputs": [],
   "source": [
    "#DATA WRANGLING"
   ]
  },
  {
   "cell_type": "code",
   "execution_count": 5,
   "id": "26400c55-5173-4e85-a13c-78249017054a",
   "metadata": {},
   "outputs": [
    {
     "data": {
      "text/html": [
       "<div>\n",
       "<style scoped>\n",
       "    .dataframe tbody tr th:only-of-type {\n",
       "        vertical-align: middle;\n",
       "    }\n",
       "\n",
       "    .dataframe tbody tr th {\n",
       "        vertical-align: top;\n",
       "    }\n",
       "\n",
       "    .dataframe thead th {\n",
       "        text-align: right;\n",
       "    }\n",
       "</style>\n",
       "<table border=\"1\" class=\"dataframe\">\n",
       "  <thead>\n",
       "    <tr style=\"text-align: right;\">\n",
       "      <th></th>\n",
       "      <th>Date</th>\n",
       "      <th>Time</th>\n",
       "      <th>State</th>\n",
       "      <th>Group</th>\n",
       "      <th>Unit</th>\n",
       "      <th>Sales</th>\n",
       "    </tr>\n",
       "  </thead>\n",
       "  <tbody>\n",
       "    <tr>\n",
       "      <th>0</th>\n",
       "      <td>1-Oct-2020</td>\n",
       "      <td>Morning</td>\n",
       "      <td>WA</td>\n",
       "      <td>Kids</td>\n",
       "      <td>8</td>\n",
       "      <td>20000</td>\n",
       "    </tr>\n",
       "    <tr>\n",
       "      <th>1</th>\n",
       "      <td>1-Oct-2020</td>\n",
       "      <td>Morning</td>\n",
       "      <td>WA</td>\n",
       "      <td>Men</td>\n",
       "      <td>8</td>\n",
       "      <td>20000</td>\n",
       "    </tr>\n",
       "  </tbody>\n",
       "</table>\n",
       "</div>"
      ],
      "text/plain": [
       "         Date      Time State  Group  Unit  Sales\n",
       "0  1-Oct-2020   Morning    WA   Kids     8  20000\n",
       "1  1-Oct-2020   Morning    WA    Men     8  20000"
      ]
     },
     "execution_count": 5,
     "metadata": {},
     "output_type": "execute_result"
    }
   ],
   "source": [
    "AM.head(2)"
   ]
  },
  {
   "cell_type": "code",
   "execution_count": 6,
   "id": "c0babca3-7a4b-4d5c-aae4-5e93a86dcfa7",
   "metadata": {},
   "outputs": [
    {
     "data": {
      "text/html": [
       "<div>\n",
       "<style scoped>\n",
       "    .dataframe tbody tr th:only-of-type {\n",
       "        vertical-align: middle;\n",
       "    }\n",
       "\n",
       "    .dataframe tbody tr th {\n",
       "        vertical-align: top;\n",
       "    }\n",
       "\n",
       "    .dataframe thead th {\n",
       "        text-align: right;\n",
       "    }\n",
       "</style>\n",
       "<table border=\"1\" class=\"dataframe\">\n",
       "  <thead>\n",
       "    <tr style=\"text-align: right;\">\n",
       "      <th></th>\n",
       "      <th>Date</th>\n",
       "      <th>Time</th>\n",
       "      <th>State</th>\n",
       "      <th>Group</th>\n",
       "      <th>Unit</th>\n",
       "      <th>Sales</th>\n",
       "    </tr>\n",
       "  </thead>\n",
       "  <tbody>\n",
       "    <tr>\n",
       "      <th>7558</th>\n",
       "      <td>30-Dec-2020</td>\n",
       "      <td>Evening</td>\n",
       "      <td>TAS</td>\n",
       "      <td>Women</td>\n",
       "      <td>11</td>\n",
       "      <td>27500</td>\n",
       "    </tr>\n",
       "    <tr>\n",
       "      <th>7559</th>\n",
       "      <td>30-Dec-2020</td>\n",
       "      <td>Evening</td>\n",
       "      <td>TAS</td>\n",
       "      <td>Seniors</td>\n",
       "      <td>13</td>\n",
       "      <td>32500</td>\n",
       "    </tr>\n",
       "  </tbody>\n",
       "</table>\n",
       "</div>"
      ],
      "text/plain": [
       "             Date      Time State     Group  Unit  Sales\n",
       "7558  30-Dec-2020   Evening   TAS     Women    11  27500\n",
       "7559  30-Dec-2020   Evening   TAS   Seniors    13  32500"
      ]
     },
     "execution_count": 6,
     "metadata": {},
     "output_type": "execute_result"
    }
   ],
   "source": [
    "AM.tail(2)"
   ]
  },
  {
   "cell_type": "code",
   "execution_count": 7,
   "id": "4b907080-2e62-4b46-8947-800467707969",
   "metadata": {},
   "outputs": [
    {
     "name": "stdout",
     "output_type": "stream",
     "text": [
      "<class 'pandas.core.frame.DataFrame'>\n",
      "RangeIndex: 7560 entries, 0 to 7559\n",
      "Data columns (total 6 columns):\n",
      " #   Column  Non-Null Count  Dtype \n",
      "---  ------  --------------  ----- \n",
      " 0   Date    7560 non-null   object\n",
      " 1   Time    7560 non-null   object\n",
      " 2   State   7560 non-null   object\n",
      " 3   Group   7560 non-null   object\n",
      " 4   Unit    7560 non-null   int64 \n",
      " 5   Sales   7560 non-null   int64 \n",
      "dtypes: int64(2), object(4)\n",
      "memory usage: 354.5+ KB\n"
     ]
    }
   ],
   "source": [
    "AM.info()"
   ]
  },
  {
   "cell_type": "code",
   "execution_count": 8,
   "id": "2b7f3048-37c3-4ca9-acdd-3ff764f96938",
   "metadata": {},
   "outputs": [
    {
     "data": {
      "text/html": [
       "<div>\n",
       "<style scoped>\n",
       "    .dataframe tbody tr th:only-of-type {\n",
       "        vertical-align: middle;\n",
       "    }\n",
       "\n",
       "    .dataframe tbody tr th {\n",
       "        vertical-align: top;\n",
       "    }\n",
       "\n",
       "    .dataframe thead th {\n",
       "        text-align: right;\n",
       "    }\n",
       "</style>\n",
       "<table border=\"1\" class=\"dataframe\">\n",
       "  <thead>\n",
       "    <tr style=\"text-align: right;\">\n",
       "      <th></th>\n",
       "      <th>Date</th>\n",
       "      <th>Time</th>\n",
       "      <th>State</th>\n",
       "      <th>Group</th>\n",
       "      <th>Unit</th>\n",
       "      <th>Sales</th>\n",
       "    </tr>\n",
       "  </thead>\n",
       "  <tbody>\n",
       "    <tr>\n",
       "      <th>0</th>\n",
       "      <td>True</td>\n",
       "      <td>True</td>\n",
       "      <td>True</td>\n",
       "      <td>True</td>\n",
       "      <td>True</td>\n",
       "      <td>True</td>\n",
       "    </tr>\n",
       "    <tr>\n",
       "      <th>1</th>\n",
       "      <td>True</td>\n",
       "      <td>True</td>\n",
       "      <td>True</td>\n",
       "      <td>True</td>\n",
       "      <td>True</td>\n",
       "      <td>True</td>\n",
       "    </tr>\n",
       "    <tr>\n",
       "      <th>2</th>\n",
       "      <td>True</td>\n",
       "      <td>True</td>\n",
       "      <td>True</td>\n",
       "      <td>True</td>\n",
       "      <td>True</td>\n",
       "      <td>True</td>\n",
       "    </tr>\n",
       "    <tr>\n",
       "      <th>3</th>\n",
       "      <td>True</td>\n",
       "      <td>True</td>\n",
       "      <td>True</td>\n",
       "      <td>True</td>\n",
       "      <td>True</td>\n",
       "      <td>True</td>\n",
       "    </tr>\n",
       "    <tr>\n",
       "      <th>4</th>\n",
       "      <td>True</td>\n",
       "      <td>True</td>\n",
       "      <td>True</td>\n",
       "      <td>True</td>\n",
       "      <td>True</td>\n",
       "      <td>True</td>\n",
       "    </tr>\n",
       "    <tr>\n",
       "      <th>...</th>\n",
       "      <td>...</td>\n",
       "      <td>...</td>\n",
       "      <td>...</td>\n",
       "      <td>...</td>\n",
       "      <td>...</td>\n",
       "      <td>...</td>\n",
       "    </tr>\n",
       "    <tr>\n",
       "      <th>7555</th>\n",
       "      <td>True</td>\n",
       "      <td>True</td>\n",
       "      <td>True</td>\n",
       "      <td>True</td>\n",
       "      <td>True</td>\n",
       "      <td>True</td>\n",
       "    </tr>\n",
       "    <tr>\n",
       "      <th>7556</th>\n",
       "      <td>True</td>\n",
       "      <td>True</td>\n",
       "      <td>True</td>\n",
       "      <td>True</td>\n",
       "      <td>True</td>\n",
       "      <td>True</td>\n",
       "    </tr>\n",
       "    <tr>\n",
       "      <th>7557</th>\n",
       "      <td>True</td>\n",
       "      <td>True</td>\n",
       "      <td>True</td>\n",
       "      <td>True</td>\n",
       "      <td>True</td>\n",
       "      <td>True</td>\n",
       "    </tr>\n",
       "    <tr>\n",
       "      <th>7558</th>\n",
       "      <td>True</td>\n",
       "      <td>True</td>\n",
       "      <td>True</td>\n",
       "      <td>True</td>\n",
       "      <td>True</td>\n",
       "      <td>True</td>\n",
       "    </tr>\n",
       "    <tr>\n",
       "      <th>7559</th>\n",
       "      <td>True</td>\n",
       "      <td>True</td>\n",
       "      <td>True</td>\n",
       "      <td>True</td>\n",
       "      <td>True</td>\n",
       "      <td>True</td>\n",
       "    </tr>\n",
       "  </tbody>\n",
       "</table>\n",
       "<p>7560 rows × 6 columns</p>\n",
       "</div>"
      ],
      "text/plain": [
       "      Date  Time  State  Group  Unit  Sales\n",
       "0     True  True   True   True  True   True\n",
       "1     True  True   True   True  True   True\n",
       "2     True  True   True   True  True   True\n",
       "3     True  True   True   True  True   True\n",
       "4     True  True   True   True  True   True\n",
       "...    ...   ...    ...    ...   ...    ...\n",
       "7555  True  True   True   True  True   True\n",
       "7556  True  True   True   True  True   True\n",
       "7557  True  True   True   True  True   True\n",
       "7558  True  True   True   True  True   True\n",
       "7559  True  True   True   True  True   True\n",
       "\n",
       "[7560 rows x 6 columns]"
      ]
     },
     "execution_count": 8,
     "metadata": {},
     "output_type": "execute_result"
    }
   ],
   "source": [
    "AM.notna()"
   ]
  },
  {
   "cell_type": "code",
   "execution_count": 9,
   "id": "b497d504-64f4-4636-b22b-45c5b8ba9933",
   "metadata": {},
   "outputs": [
    {
     "data": {
      "text/plain": [
       "Date     0\n",
       "Time     0\n",
       "State    0\n",
       "Group    0\n",
       "Unit     0\n",
       "Sales    0\n",
       "dtype: int64"
      ]
     },
     "execution_count": 9,
     "metadata": {},
     "output_type": "execute_result"
    }
   ],
   "source": [
    "AM.isna().sum()"
   ]
  },
  {
   "cell_type": "code",
   "execution_count": 10,
   "id": "a09f5bc6-25f4-4a7c-a8e9-7e7d0ed17385",
   "metadata": {},
   "outputs": [],
   "source": [
    "from sklearn.preprocessing import MinMaxScaler\n",
    "scaler = MinMaxScaler()\n",
    "numerical_columns = ['Unit', 'Sales']  \n",
    "AM[numerical_columns] = scaler.fit_transform(AM[numerical_columns])"
   ]
  },
  {
   "cell_type": "code",
   "execution_count": 11,
   "id": "6e343215-0ceb-4219-a675-fe589b2cdb3f",
   "metadata": {},
   "outputs": [],
   "source": [
    "file_path = 'AusApparalSales4thQrt2020.csv'\n",
    "AM_sales = pd.read_csv(file_path)"
   ]
  },
  {
   "cell_type": "code",
   "execution_count": 12,
   "id": "2415cc18-7bd2-4124-a4a1-dea054350c11",
   "metadata": {},
   "outputs": [
    {
     "data": {
      "text/html": [
       "<div>\n",
       "<style scoped>\n",
       "    .dataframe tbody tr th:only-of-type {\n",
       "        vertical-align: middle;\n",
       "    }\n",
       "\n",
       "    .dataframe tbody tr th {\n",
       "        vertical-align: top;\n",
       "    }\n",
       "\n",
       "    .dataframe thead th {\n",
       "        text-align: right;\n",
       "    }\n",
       "</style>\n",
       "<table border=\"1\" class=\"dataframe\">\n",
       "  <thead>\n",
       "    <tr style=\"text-align: right;\">\n",
       "      <th></th>\n",
       "      <th>Date</th>\n",
       "      <th>Time</th>\n",
       "      <th>State</th>\n",
       "      <th>Group</th>\n",
       "      <th>Unit</th>\n",
       "      <th>Sales</th>\n",
       "    </tr>\n",
       "  </thead>\n",
       "  <tbody>\n",
       "    <tr>\n",
       "      <th>0</th>\n",
       "      <td>1-Oct-2020</td>\n",
       "      <td>Morning</td>\n",
       "      <td>WA</td>\n",
       "      <td>Kids</td>\n",
       "      <td>0.095238</td>\n",
       "      <td>0.095238</td>\n",
       "    </tr>\n",
       "    <tr>\n",
       "      <th>1</th>\n",
       "      <td>1-Oct-2020</td>\n",
       "      <td>Morning</td>\n",
       "      <td>WA</td>\n",
       "      <td>Men</td>\n",
       "      <td>0.095238</td>\n",
       "      <td>0.095238</td>\n",
       "    </tr>\n",
       "    <tr>\n",
       "      <th>2</th>\n",
       "      <td>1-Oct-2020</td>\n",
       "      <td>Morning</td>\n",
       "      <td>WA</td>\n",
       "      <td>Women</td>\n",
       "      <td>0.031746</td>\n",
       "      <td>0.031746</td>\n",
       "    </tr>\n",
       "    <tr>\n",
       "      <th>3</th>\n",
       "      <td>1-Oct-2020</td>\n",
       "      <td>Morning</td>\n",
       "      <td>WA</td>\n",
       "      <td>Seniors</td>\n",
       "      <td>0.206349</td>\n",
       "      <td>0.206349</td>\n",
       "    </tr>\n",
       "    <tr>\n",
       "      <th>4</th>\n",
       "      <td>1-Oct-2020</td>\n",
       "      <td>Afternoon</td>\n",
       "      <td>WA</td>\n",
       "      <td>Kids</td>\n",
       "      <td>0.015873</td>\n",
       "      <td>0.015873</td>\n",
       "    </tr>\n",
       "    <tr>\n",
       "      <th>5</th>\n",
       "      <td>1-Oct-2020</td>\n",
       "      <td>Afternoon</td>\n",
       "      <td>WA</td>\n",
       "      <td>Men</td>\n",
       "      <td>0.126984</td>\n",
       "      <td>0.126984</td>\n",
       "    </tr>\n",
       "    <tr>\n",
       "      <th>6</th>\n",
       "      <td>1-Oct-2020</td>\n",
       "      <td>Afternoon</td>\n",
       "      <td>WA</td>\n",
       "      <td>Women</td>\n",
       "      <td>0.015873</td>\n",
       "      <td>0.015873</td>\n",
       "    </tr>\n",
       "    <tr>\n",
       "      <th>7</th>\n",
       "      <td>1-Oct-2020</td>\n",
       "      <td>Afternoon</td>\n",
       "      <td>WA</td>\n",
       "      <td>Seniors</td>\n",
       "      <td>0.142857</td>\n",
       "      <td>0.142857</td>\n",
       "    </tr>\n",
       "  </tbody>\n",
       "</table>\n",
       "</div>"
      ],
      "text/plain": [
       "         Date        Time State     Group      Unit     Sales\n",
       "0  1-Oct-2020     Morning    WA      Kids  0.095238  0.095238\n",
       "1  1-Oct-2020     Morning    WA       Men  0.095238  0.095238\n",
       "2  1-Oct-2020     Morning    WA     Women  0.031746  0.031746\n",
       "3  1-Oct-2020     Morning    WA   Seniors  0.206349  0.206349\n",
       "4  1-Oct-2020   Afternoon    WA      Kids  0.015873  0.015873\n",
       "5  1-Oct-2020   Afternoon    WA       Men  0.126984  0.126984\n",
       "6  1-Oct-2020   Afternoon    WA     Women  0.015873  0.015873\n",
       "7  1-Oct-2020   Afternoon    WA   Seniors  0.142857  0.142857"
      ]
     },
     "execution_count": 12,
     "metadata": {},
     "output_type": "execute_result"
    }
   ],
   "source": [
    "scaler = MinMaxScaler()\n",
    "numerical_columns = ['Unit', 'Sales']\n",
    "AM_sales[numerical_columns] = scaler.fit_transform(AM_sales[numerical_columns])\n",
    "\n",
    "# Show the first few rows to confirm the transformation\n",
    "AM_sales_head = AM_sales.head(8)\n",
    "AM_sales_head"
   ]
  },
  {
   "cell_type": "code",
   "execution_count": 13,
   "id": "99e94b89-ba0d-4582-8999-fdf71bf099c9",
   "metadata": {},
   "outputs": [
    {
     "data": {
      "text/plain": [
       "Date\n",
       "1-Dec-2020     25.682540\n",
       "1-Nov-2020     16.507937\n",
       "1-Oct-2020     20.952381\n",
       "10-Dec-2020    27.285714\n",
       "10-Nov-2020    16.333333\n",
       "                 ...    \n",
       "8-Nov-2020     17.714286\n",
       "8-Oct-2020     22.380952\n",
       "9-Dec-2020     26.888889\n",
       "9-Nov-2020     15.904762\n",
       "9-Oct-2020     20.476190\n",
       "Name: Sales, Length: 90, dtype: float64"
      ]
     },
     "execution_count": 13,
     "metadata": {},
     "output_type": "execute_result"
    }
   ],
   "source": [
    "daily_sales = AM_sales.groupby('Date')['Sales'].sum()\n",
    "daily_sales "
   ]
  },
  {
   "cell_type": "code",
   "execution_count": 14,
   "id": "2c77ad52-da5c-475b-8d45-5c9705f4d178",
   "metadata": {},
   "outputs": [
    {
     "data": {
      "text/plain": [
       "State\n",
       " NSW    441.714286\n",
       " NT     109.079365\n",
       " QLD    177.888889\n",
       " SA     339.412698\n",
       " TAS    110.222222\n",
       " VIC    635.968254\n",
       " WA     106.365079\n",
       "Name: Sales, dtype: float64"
      ]
     },
     "execution_count": 14,
     "metadata": {},
     "output_type": "execute_result"
    }
   ],
   "source": [
    "state_sales = AM.groupby('State')['Sales'].sum()\n",
    "state_sales"
   ]
  },
  {
   "cell_type": "code",
   "execution_count": 15,
   "id": "93987be4-cdf1-42d4-afea-ab5033a5ce39",
   "metadata": {},
   "outputs": [
    {
     "data": {
      "text/plain": [
       "Time\n",
       " Afternoon    643.857143\n",
       " Evening      631.666667\n",
       " Morning      645.126984\n",
       "Name: Sales, dtype: float64"
      ]
     },
     "execution_count": 15,
     "metadata": {},
     "output_type": "execute_result"
    }
   ],
   "source": [
    "time_sales = AM.groupby('Time')['Sales'].sum()\n",
    "time_sales"
   ]
  },
  {
   "cell_type": "code",
   "execution_count": 16,
   "id": "04387257-6431-4f7a-b64b-78b436aa9562",
   "metadata": {},
   "outputs": [
    {
     "data": {
      "text/html": [
       "<div>\n",
       "<style scoped>\n",
       "    .dataframe tbody tr th:only-of-type {\n",
       "        vertical-align: middle;\n",
       "    }\n",
       "\n",
       "    .dataframe tbody tr th {\n",
       "        vertical-align: top;\n",
       "    }\n",
       "\n",
       "    .dataframe thead th {\n",
       "        text-align: right;\n",
       "    }\n",
       "</style>\n",
       "<table border=\"1\" class=\"dataframe\">\n",
       "  <thead>\n",
       "    <tr style=\"text-align: right;\">\n",
       "      <th>Time</th>\n",
       "      <th>Afternoon</th>\n",
       "      <th>Evening</th>\n",
       "      <th>Morning</th>\n",
       "    </tr>\n",
       "    <tr>\n",
       "      <th>State</th>\n",
       "      <th></th>\n",
       "      <th></th>\n",
       "      <th></th>\n",
       "    </tr>\n",
       "  </thead>\n",
       "  <tbody>\n",
       "    <tr>\n",
       "      <th>NSW</th>\n",
       "      <td>148.000000</td>\n",
       "      <td>145.476190</td>\n",
       "      <td>148.238095</td>\n",
       "    </tr>\n",
       "    <tr>\n",
       "      <th>NT</th>\n",
       "      <td>36.253968</td>\n",
       "      <td>37.000000</td>\n",
       "      <td>35.825397</td>\n",
       "    </tr>\n",
       "    <tr>\n",
       "      <th>QLD</th>\n",
       "      <td>60.619048</td>\n",
       "      <td>56.079365</td>\n",
       "      <td>61.190476</td>\n",
       "    </tr>\n",
       "    <tr>\n",
       "      <th>SA</th>\n",
       "      <td>115.714286</td>\n",
       "      <td>111.539683</td>\n",
       "      <td>112.158730</td>\n",
       "    </tr>\n",
       "    <tr>\n",
       "      <th>TAS</th>\n",
       "      <td>37.269841</td>\n",
       "      <td>36.603175</td>\n",
       "      <td>36.349206</td>\n",
       "    </tr>\n",
       "    <tr>\n",
       "      <th>VIC</th>\n",
       "      <td>211.190476</td>\n",
       "      <td>210.031746</td>\n",
       "      <td>214.746032</td>\n",
       "    </tr>\n",
       "    <tr>\n",
       "      <th>WA</th>\n",
       "      <td>34.809524</td>\n",
       "      <td>34.936508</td>\n",
       "      <td>36.619048</td>\n",
       "    </tr>\n",
       "  </tbody>\n",
       "</table>\n",
       "</div>"
      ],
      "text/plain": [
       "Time    Afternoon     Evening     Morning\n",
       "State                                    \n",
       " NSW   148.000000  145.476190  148.238095\n",
       " NT     36.253968   37.000000   35.825397\n",
       " QLD    60.619048   56.079365   61.190476\n",
       " SA    115.714286  111.539683  112.158730\n",
       " TAS    37.269841   36.603175   36.349206\n",
       " VIC   211.190476  210.031746  214.746032\n",
       " WA     34.809524   34.936508   36.619048"
      ]
     },
     "execution_count": 16,
     "metadata": {},
     "output_type": "execute_result"
    }
   ],
   "source": [
    "state_time_sales = AM.groupby(['State', 'Time'])['Sales'].sum().unstack()\n",
    "state_time_sales"
   ]
  },
  {
   "cell_type": "code",
   "execution_count": 17,
   "id": "57d3057b-6fca-4897-aee0-9f55ee5a3371",
   "metadata": {},
   "outputs": [
    {
     "data": {
      "text/plain": [
       "Group\n",
       " Kids       480.142857\n",
       " Men        484.444444\n",
       " Seniors    473.571429\n",
       " Women      482.492063\n",
       "Name: Sales, dtype: float64"
      ]
     },
     "execution_count": 17,
     "metadata": {},
     "output_type": "execute_result"
    }
   ],
   "source": [
    "group_sales = AM.groupby('Group')['Sales'].sum()\n",
    "group_sales"
   ]
  },
  {
   "cell_type": "code",
   "execution_count": null,
   "id": "31dd728d-2c9c-4c91-948d-db35566c5068",
   "metadata": {},
   "outputs": [],
   "source": [
    "#DATA ANALYSIS"
   ]
  },
  {
   "cell_type": "code",
   "execution_count": 18,
   "id": "99ac0c93-1b62-483e-af5a-1e3da19a33a9",
   "metadata": {},
   "outputs": [
    {
     "data": {
      "text/html": [
       "<div>\n",
       "<style scoped>\n",
       "    .dataframe tbody tr th:only-of-type {\n",
       "        vertical-align: middle;\n",
       "    }\n",
       "\n",
       "    .dataframe tbody tr th {\n",
       "        vertical-align: top;\n",
       "    }\n",
       "\n",
       "    .dataframe thead th {\n",
       "        text-align: right;\n",
       "    }\n",
       "</style>\n",
       "<table border=\"1\" class=\"dataframe\">\n",
       "  <thead>\n",
       "    <tr style=\"text-align: right;\">\n",
       "      <th></th>\n",
       "      <th>Unit</th>\n",
       "      <th>Sales</th>\n",
       "    </tr>\n",
       "  </thead>\n",
       "  <tbody>\n",
       "    <tr>\n",
       "      <th>count</th>\n",
       "      <td>7560.000000</td>\n",
       "      <td>7560.000000</td>\n",
       "    </tr>\n",
       "    <tr>\n",
       "      <th>mean</th>\n",
       "      <td>0.254054</td>\n",
       "      <td>0.254054</td>\n",
       "    </tr>\n",
       "    <tr>\n",
       "      <th>std</th>\n",
       "      <td>0.204784</td>\n",
       "      <td>0.204784</td>\n",
       "    </tr>\n",
       "    <tr>\n",
       "      <th>min</th>\n",
       "      <td>0.000000</td>\n",
       "      <td>0.000000</td>\n",
       "    </tr>\n",
       "    <tr>\n",
       "      <th>25%</th>\n",
       "      <td>0.095238</td>\n",
       "      <td>0.095238</td>\n",
       "    </tr>\n",
       "    <tr>\n",
       "      <th>50%</th>\n",
       "      <td>0.190476</td>\n",
       "      <td>0.190476</td>\n",
       "    </tr>\n",
       "    <tr>\n",
       "      <th>75%</th>\n",
       "      <td>0.380952</td>\n",
       "      <td>0.380952</td>\n",
       "    </tr>\n",
       "    <tr>\n",
       "      <th>max</th>\n",
       "      <td>1.000000</td>\n",
       "      <td>1.000000</td>\n",
       "    </tr>\n",
       "  </tbody>\n",
       "</table>\n",
       "</div>"
      ],
      "text/plain": [
       "              Unit        Sales\n",
       "count  7560.000000  7560.000000\n",
       "mean      0.254054     0.254054\n",
       "std       0.204784     0.204784\n",
       "min       0.000000     0.000000\n",
       "25%       0.095238     0.095238\n",
       "50%       0.190476     0.190476\n",
       "75%       0.380952     0.380952\n",
       "max       1.000000     1.000000"
      ]
     },
     "execution_count": 18,
     "metadata": {},
     "output_type": "execute_result"
    }
   ],
   "source": [
    "AM.describe()"
   ]
  },
  {
   "cell_type": "code",
   "execution_count": 19,
   "id": "ad0df1b6-7712-4ec7-81d5-66c2d299e615",
   "metadata": {},
   "outputs": [],
   "source": [
    "#or"
   ]
  },
  {
   "cell_type": "code",
   "execution_count": 20,
   "id": "f6e9db33-ca81-43d5-85d1-5e1aa335a7b4",
   "metadata": {},
   "outputs": [
    {
     "name": "stdout",
     "output_type": "stream",
     "text": [
      "Descriptive statistics for Sales:\n",
      "Mean: 0.25405433778449654\n",
      "Median: 0.1904761904761905\n",
      "Mode: 0.1111111111111111\n",
      "Standard Deviation: 0.2047841710728009\n",
      "\n",
      "Descriptive statistics for Unit:\n",
      "Mean: 0.2540543377844965\n",
      "Median: 0.19047619047619047\n",
      "Mode: 0.1111111111111111\n",
      "Standard Deviation: 0.20478417107280086\n"
     ]
    }
   ],
   "source": [
    "# Descriptive statistics for the 'Sales' column\n",
    "sales_mean = AM['Sales'].mean()\n",
    "sales_median = AM['Sales'].median()\n",
    "sales_mode = AM['Sales'].mode()[0]\n",
    "sales_std = AM['Sales'].std()\n",
    "\n",
    "# Descriptive statistics for the 'Unit' column\n",
    "unit_mean = AM['Unit'].mean()\n",
    "unit_median = AM['Unit'].median()\n",
    "unit_mode = AM['Unit'].mode()[0]\n",
    "unit_std = AM['Unit'].std()\n",
    "\n",
    "# Output the results\n",
    "print(\"Descriptive statistics for Sales:\")\n",
    "print(\"Mean:\", sales_mean)\n",
    "print(\"Median:\", sales_median)\n",
    "print(\"Mode:\", sales_mode)\n",
    "print(\"Standard Deviation:\", sales_std)\n",
    "\n",
    "print(\"\\nDescriptive statistics for Unit:\")\n",
    "print(\"Mean:\", unit_mean)\n",
    "print(\"Median:\", unit_median)\n",
    "print(\"Mode:\", unit_mode)\n",
    "print(\"Standard Deviation:\", unit_std)"
   ]
  },
  {
   "cell_type": "code",
   "execution_count": 21,
   "id": "6ebf7e0b-df0c-4557-8a6e-0ca7da131291",
   "metadata": {},
   "outputs": [
    {
     "name": "stdout",
     "output_type": "stream",
     "text": [
      "The group with the highest sales is:  Men with sales of 484.44444444444446\n",
      "The group with the lowest sales is:  Seniors with sales of 473.57142857142856\n"
     ]
    }
   ],
   "source": [
    "total_sales_per_group = AM.groupby('Group')['Sales'].sum()\n",
    "highest_sales_group = total_sales_per_group.idxmax()\n",
    "lowest_sales_group = total_sales_per_group.idxmin()\n",
    "# Display the results\n",
    "print(f\"The group with the highest sales is: {highest_sales_group} with sales of {total_sales_per_group[highest_sales_group]}\")\n",
    "print(f\"The group with the lowest sales is: {lowest_sales_group} with sales of {total_sales_per_group[lowest_sales_group]}\")"
   ]
  },
  {
   "cell_type": "code",
   "execution_count": 22,
   "id": "3d32afdf-1e87-4ec3-8fa5-492f329b9bfd",
   "metadata": {},
   "outputs": [
    {
     "data": {
      "text/plain": [
       "' VIC'"
      ]
     },
     "execution_count": 22,
     "metadata": {},
     "output_type": "execute_result"
    }
   ],
   "source": [
    "total_sales_per_group = AM.groupby('State')['Sales'].sum()\n",
    "highest_sales_State = total_sales_per_group.idxmax()\n",
    "highest_sales_State"
   ]
  },
  {
   "cell_type": "code",
   "execution_count": 23,
   "id": "55255c35-60b9-4187-abcd-11c7db55e01b",
   "metadata": {},
   "outputs": [
    {
     "data": {
      "text/plain": [
       "' WA'"
      ]
     },
     "execution_count": 23,
     "metadata": {},
     "output_type": "execute_result"
    }
   ],
   "source": [
    "lowest_sales_State = total_sales_per_group.idxmin()\n",
    "lowest_sales_State"
   ]
  },
  {
   "cell_type": "code",
   "execution_count": 38,
   "id": "3fc031c4-5d11-46b9-93c4-58f7d1ae3ae2",
   "metadata": {},
   "outputs": [
    {
     "name": "stdout",
     "output_type": "stream",
     "text": [
      "Index(['Time', 'State', 'Group', 'Unit', 'Sales'], dtype='object')\n"
     ]
    }
   ],
   "source": [
    "print(AM.columns)"
   ]
  },
  {
   "cell_type": "code",
   "execution_count": 46,
   "id": "be8636f4-63c1-4e6e-8697-6d0c5f1a6948",
   "metadata": {},
   "outputs": [],
   "source": [
    "AM = pd.read_csv('AusApparalSales4thQrt2020.csv')"
   ]
  },
  {
   "cell_type": "code",
   "execution_count": 47,
   "id": "e0966bfb-6f38-459a-a782-f0ccd70a4939",
   "metadata": {},
   "outputs": [],
   "source": [
    "AM['Date'] = pd.to_datetime(AM['Date'])"
   ]
  },
  {
   "cell_type": "code",
   "execution_count": 48,
   "id": "2922c094-7d27-4b6e-b2ac-e06204781352",
   "metadata": {},
   "outputs": [],
   "source": [
    "AM.set_index('Date', inplace=True)"
   ]
  },
  {
   "cell_type": "code",
   "execution_count": 49,
   "id": "7c73fa13-2be8-4cfc-ab26-7843108ba85a",
   "metadata": {},
   "outputs": [
    {
     "data": {
      "text/plain": [
       "Date\n",
       "2020-10-04    15045000\n",
       "2020-10-11    27002500\n",
       "2020-10-18    26640000\n",
       "2020-10-25    26815000\n",
       "2020-11-01    21807500\n",
       "2020-11-08    20865000\n",
       "2020-11-15    21172500\n",
       "2020-11-22    21112500\n",
       "2020-11-29    21477500\n",
       "2020-12-06    29622500\n",
       "2020-12-13    31525000\n",
       "2020-12-20    31655000\n",
       "2020-12-27    31770000\n",
       "2021-01-03    13792500\n",
       "Freq: W-SUN, Name: Sales, dtype: int64"
      ]
     },
     "execution_count": 49,
     "metadata": {},
     "output_type": "execute_result"
    }
   ],
   "source": [
    "weekly_report = AM['Sales'].resample('W').sum()\n",
    "weekly_report"
   ]
  },
  {
   "cell_type": "code",
   "execution_count": 50,
   "id": "0193498c-f21f-41bb-a9fb-8341e013ba26",
   "metadata": {},
   "outputs": [
    {
     "data": {
      "text/plain": [
       "Date\n",
       "2020-10-31    114290000\n",
       "2020-11-30     90682500\n",
       "2020-12-31    135330000\n",
       "Freq: M, Name: Sales, dtype: int64"
      ]
     },
     "execution_count": 50,
     "metadata": {},
     "output_type": "execute_result"
    }
   ],
   "source": [
    "monthly_report = AM['Sales'].resample('M').sum()\n",
    "monthly_report"
   ]
  },
  {
   "cell_type": "code",
   "execution_count": 51,
   "id": "9e964eb6-0e60-4a40-8a40-296faef3bd24",
   "metadata": {},
   "outputs": [
    {
     "data": {
      "text/plain": [
       "Date\n",
       "2020-12-31    340302500\n",
       "Freq: Q-DEC, Name: Sales, dtype: int64"
      ]
     },
     "execution_count": 51,
     "metadata": {},
     "output_type": "execute_result"
    }
   ],
   "source": [
    "quarterly_report = AM['Sales'].resample('Q').sum()\n",
    "quarterly_report"
   ]
  },
  {
   "cell_type": "code",
   "execution_count": 37,
   "id": "534df134-ace8-4e40-b733-dd23416ce5f2",
   "metadata": {},
   "outputs": [
    {
     "name": "stdout",
     "output_type": "stream",
     "text": [
      "Weekly Report:\n",
      " Date\n",
      "2020-10-04    15045000\n",
      "2020-10-11    27002500\n",
      "2020-10-18    26640000\n",
      "2020-10-25    26815000\n",
      "2020-11-01    21807500\n",
      "2020-11-08    20865000\n",
      "2020-11-15    21172500\n",
      "2020-11-22    21112500\n",
      "2020-11-29    21477500\n",
      "2020-12-06    29622500\n",
      "2020-12-13    31525000\n",
      "2020-12-20    31655000\n",
      "2020-12-27    31770000\n",
      "2021-01-03    13792500\n",
      "Freq: W-SUN, Name: Sales, dtype: int64\n",
      "\n",
      "Monthly Report:\n",
      " Date\n",
      "2020-10-31    114290000\n",
      "2020-11-30     90682500\n",
      "2020-12-31    135330000\n",
      "Freq: M, Name: Sales, dtype: int64\n",
      "\n",
      "Quarterly Report:\n",
      " Date\n",
      "2020-12-31    340302500\n",
      "Freq: Q-DEC, Name: Sales, dtype: int64\n"
     ]
    }
   ],
   "source": [
    "weekly_report.to_csv('weekly_report.csv')\n",
    "monthly_report.to_csv('monthly_report.csv')\n",
    "quarterly_report.to_csv('quarterly_report.csv')\n",
    "\n",
    "# Display reports\n",
    "print(\"Weekly Report:\\n\", weekly_report)\n",
    "print(\"\\nMonthly Report:\\n\", monthly_report)\n",
    "print(\"\\nQuarterly Report:\\n\", quarterly_report)"
   ]
  },
  {
   "cell_type": "code",
   "execution_count": 55,
   "id": "69f6207e-8203-4aa0-a4a4-7ee146f835ac",
   "metadata": {},
   "outputs": [
    {
     "data": {
      "text/html": [
       "<div>\n",
       "<style scoped>\n",
       "    .dataframe tbody tr th:only-of-type {\n",
       "        vertical-align: middle;\n",
       "    }\n",
       "\n",
       "    .dataframe tbody tr th {\n",
       "        vertical-align: top;\n",
       "    }\n",
       "\n",
       "    .dataframe thead th {\n",
       "        text-align: right;\n",
       "    }\n",
       "</style>\n",
       "<table border=\"1\" class=\"dataframe\">\n",
       "  <thead>\n",
       "    <tr style=\"text-align: right;\">\n",
       "      <th></th>\n",
       "      <th>Sales</th>\n",
       "      <th>Unit</th>\n",
       "    </tr>\n",
       "    <tr>\n",
       "      <th>Date</th>\n",
       "      <th></th>\n",
       "      <th></th>\n",
       "    </tr>\n",
       "  </thead>\n",
       "  <tbody>\n",
       "    <tr>\n",
       "      <th>2020-10-04</th>\n",
       "      <td>15045000</td>\n",
       "      <td>17.910714</td>\n",
       "    </tr>\n",
       "    <tr>\n",
       "      <th>2020-10-11</th>\n",
       "      <td>27002500</td>\n",
       "      <td>18.369048</td>\n",
       "    </tr>\n",
       "    <tr>\n",
       "      <th>2020-10-18</th>\n",
       "      <td>26640000</td>\n",
       "      <td>18.122449</td>\n",
       "    </tr>\n",
       "    <tr>\n",
       "      <th>2020-10-25</th>\n",
       "      <td>26815000</td>\n",
       "      <td>18.241497</td>\n",
       "    </tr>\n",
       "    <tr>\n",
       "      <th>2020-11-01</th>\n",
       "      <td>21807500</td>\n",
       "      <td>17.307540</td>\n",
       "    </tr>\n",
       "    <tr>\n",
       "      <th>2020-11-08</th>\n",
       "      <td>20865000</td>\n",
       "      <td>14.193878</td>\n",
       "    </tr>\n",
       "    <tr>\n",
       "      <th>2020-11-15</th>\n",
       "      <td>21172500</td>\n",
       "      <td>14.403061</td>\n",
       "    </tr>\n",
       "    <tr>\n",
       "      <th>2020-11-22</th>\n",
       "      <td>21112500</td>\n",
       "      <td>14.362245</td>\n",
       "    </tr>\n",
       "    <tr>\n",
       "      <th>2020-11-29</th>\n",
       "      <td>21477500</td>\n",
       "      <td>14.610544</td>\n",
       "    </tr>\n",
       "    <tr>\n",
       "      <th>2020-12-06</th>\n",
       "      <td>29622500</td>\n",
       "      <td>20.151361</td>\n",
       "    </tr>\n",
       "    <tr>\n",
       "      <th>2020-12-13</th>\n",
       "      <td>31525000</td>\n",
       "      <td>21.445578</td>\n",
       "    </tr>\n",
       "    <tr>\n",
       "      <th>2020-12-20</th>\n",
       "      <td>31655000</td>\n",
       "      <td>21.534014</td>\n",
       "    </tr>\n",
       "    <tr>\n",
       "      <th>2020-12-27</th>\n",
       "      <td>31770000</td>\n",
       "      <td>21.612245</td>\n",
       "    </tr>\n",
       "    <tr>\n",
       "      <th>2021-01-03</th>\n",
       "      <td>13792500</td>\n",
       "      <td>21.892857</td>\n",
       "    </tr>\n",
       "  </tbody>\n",
       "</table>\n",
       "</div>"
      ],
      "text/plain": [
       "               Sales       Unit\n",
       "Date                           \n",
       "2020-10-04  15045000  17.910714\n",
       "2020-10-11  27002500  18.369048\n",
       "2020-10-18  26640000  18.122449\n",
       "2020-10-25  26815000  18.241497\n",
       "2020-11-01  21807500  17.307540\n",
       "2020-11-08  20865000  14.193878\n",
       "2020-11-15  21172500  14.403061\n",
       "2020-11-22  21112500  14.362245\n",
       "2020-11-29  21477500  14.610544\n",
       "2020-12-06  29622500  20.151361\n",
       "2020-12-13  31525000  21.445578\n",
       "2020-12-20  31655000  21.534014\n",
       "2020-12-27  31770000  21.612245\n",
       "2021-01-03  13792500  21.892857"
      ]
     },
     "execution_count": 55,
     "metadata": {},
     "output_type": "execute_result"
    }
   ],
   "source": [
    "weekly_report = AM.resample('W').agg({'Sales': 'sum', 'Unit': 'mean'})\n",
    "weekly_report\n"
   ]
  },
  {
   "cell_type": "code",
   "execution_count": 56,
   "id": "5e2b31df-7e04-4d54-9aca-ed4581bd7cf8",
   "metadata": {},
   "outputs": [
    {
     "data": {
      "text/html": [
       "<div>\n",
       "<style scoped>\n",
       "    .dataframe tbody tr th:only-of-type {\n",
       "        vertical-align: middle;\n",
       "    }\n",
       "\n",
       "    .dataframe tbody tr th {\n",
       "        vertical-align: top;\n",
       "    }\n",
       "\n",
       "    .dataframe thead th {\n",
       "        text-align: right;\n",
       "    }\n",
       "</style>\n",
       "<table border=\"1\" class=\"dataframe\">\n",
       "  <thead>\n",
       "    <tr style=\"text-align: right;\">\n",
       "      <th></th>\n",
       "      <th>Sales</th>\n",
       "      <th>Unit</th>\n",
       "    </tr>\n",
       "    <tr>\n",
       "      <th>Date</th>\n",
       "      <th></th>\n",
       "      <th></th>\n",
       "    </tr>\n",
       "  </thead>\n",
       "  <tbody>\n",
       "    <tr>\n",
       "      <th>2020-10-31</th>\n",
       "      <td>114290000</td>\n",
       "      <td>18.141270</td>\n",
       "    </tr>\n",
       "    <tr>\n",
       "      <th>2020-11-30</th>\n",
       "      <td>90682500</td>\n",
       "      <td>14.394048</td>\n",
       "    </tr>\n",
       "    <tr>\n",
       "      <th>2020-12-31</th>\n",
       "      <td>135330000</td>\n",
       "      <td>21.480952</td>\n",
       "    </tr>\n",
       "  </tbody>\n",
       "</table>\n",
       "</div>"
      ],
      "text/plain": [
       "                Sales       Unit\n",
       "Date                            \n",
       "2020-10-31  114290000  18.141270\n",
       "2020-11-30   90682500  14.394048\n",
       "2020-12-31  135330000  21.480952"
      ]
     },
     "execution_count": 56,
     "metadata": {},
     "output_type": "execute_result"
    }
   ],
   "source": [
    "monthly_report = AM.resample('M').agg({'Sales': 'sum', 'Unit': 'mean'})\n",
    "monthly_report"
   ]
  },
  {
   "cell_type": "code",
   "execution_count": 57,
   "id": "d027981b-a84b-4bfd-aff0-839590adcb0c",
   "metadata": {},
   "outputs": [
    {
     "data": {
      "text/html": [
       "<div>\n",
       "<style scoped>\n",
       "    .dataframe tbody tr th:only-of-type {\n",
       "        vertical-align: middle;\n",
       "    }\n",
       "\n",
       "    .dataframe tbody tr th {\n",
       "        vertical-align: top;\n",
       "    }\n",
       "\n",
       "    .dataframe thead th {\n",
       "        text-align: right;\n",
       "    }\n",
       "</style>\n",
       "<table border=\"1\" class=\"dataframe\">\n",
       "  <thead>\n",
       "    <tr style=\"text-align: right;\">\n",
       "      <th></th>\n",
       "      <th>Sales</th>\n",
       "      <th>Unit</th>\n",
       "    </tr>\n",
       "    <tr>\n",
       "      <th>Date</th>\n",
       "      <th></th>\n",
       "      <th></th>\n",
       "    </tr>\n",
       "  </thead>\n",
       "  <tbody>\n",
       "    <tr>\n",
       "      <th>2020-12-31</th>\n",
       "      <td>340302500</td>\n",
       "      <td>18.005423</td>\n",
       "    </tr>\n",
       "  </tbody>\n",
       "</table>\n",
       "</div>"
      ],
      "text/plain": [
       "                Sales       Unit\n",
       "Date                            \n",
       "2020-12-31  340302500  18.005423"
      ]
     },
     "execution_count": 57,
     "metadata": {},
     "output_type": "execute_result"
    }
   ],
   "source": [
    "quarterly_report = AM.resample('Q').agg({'Sales': 'sum', 'Unit': 'mean'})\n",
    "quarterly_report"
   ]
  },
  {
   "cell_type": "code",
   "execution_count": null,
   "id": "c9e039d4-fbac-4961-9d21-953805d5fa95",
   "metadata": {},
   "outputs": [],
   "source": [
    "#DATA VISUALIZATION"
   ]
  },
  {
   "cell_type": "code",
   "execution_count": 59,
   "id": "2bc30568-2bac-4b99-892c-a3425631969e",
   "metadata": {},
   "outputs": [],
   "source": [
    "import seaborn as sns\n",
    "import matplotlib.pyplot as plt"
   ]
  },
  {
   "cell_type": "code",
   "execution_count": 64,
   "id": "328c6ad1-64bf-4588-aba0-2236ef85fc35",
   "metadata": {},
   "outputs": [
    {
     "name": "stdout",
     "output_type": "stream",
     "text": [
      "Index(['Time', 'State', 'Group', 'Unit', 'Sales'], dtype='object')\n"
     ]
    }
   ],
   "source": [
    "print(AM.columns)"
   ]
  },
  {
   "cell_type": "code",
   "execution_count": 65,
   "id": "98d00955-acb9-499c-a616-791a656dd37d",
   "metadata": {},
   "outputs": [],
   "source": [
    "Data = pd.read_csv('AusApparalSales4thQrt2020.csv')"
   ]
  },
  {
   "cell_type": "code",
   "execution_count": 66,
   "id": "0ee6eb80-50cf-49a5-9b54-6c82ae101129",
   "metadata": {},
   "outputs": [
    {
     "data": {
      "image/png": "[encoded data removed]",
      "text/plain": [
       "<Figure size 640x480 with 1 Axes>"
      ]
     },
     "metadata": {},
     "output_type": "display_data"
    }
   ],
   "source": [
    "state_group_sales = Data.groupby(['State', 'Group'])['Sales'].sum().unstack()\n",
    "state_group_sales.plot(kind='bar', stacked=True)\n",
    "plt.title('State-wise Sales Analysis for Different Groups')\n",
    "plt.show()"
   ]
  },
  {
   "cell_type": "code",
   "execution_count": 73,
   "id": "04b26e23-733e-4c7f-984e-45fb24495256",
   "metadata": {},
   "outputs": [
    {
     "data": {
      "image/png": "[encoded data removed]",
      "text/plain": [
       "<Figure size 640x480 with 1 Axes>"
      ]
     },
     "metadata": {},
     "output_type": "display_data"
    }
   ],
   "source": [
    "group_state_sales = Data.groupby(['Group', 'State'])['Sales'].sum().unstack()\n",
    "group_state_sales.plot(kind='bar', stacked=True)\n",
    "plt.title('State-wise Sales Analysis for Different state')\n",
    "plt.show()"
   ]
  },
  {
   "cell_type": "code",
   "execution_count": 79,
   "id": "293ae06c-fd07-4df0-a603-344d9f4ba131",
   "metadata": {},
   "outputs": [
    {
     "name": "stdout",
     "output_type": "stream",
     "text": [
      "Highest sales during:  Morning\n",
      "Lowest sales during:  Evening\n"
     ]
    },
    {
     "data": {
      "image/png": "[encoded data removed]",
      "text/plain": [
       "<Figure size 1000x600 with 1 Axes>"
      ]
     },
     "metadata": {},
     "output_type": "display_data"
    }
   ],
   "source": [
    "import pandas as pd\n",
    "import seaborn as sns\n",
    "import matplotlib.pyplot as plt\n",
    "\n",
    "# Ensure proper data types\n",
    "# df['Time'] should have categories like 'Morning', 'Afternoon', 'Evening'\n",
    "# df['Sales'] should be numeric\n",
    "\n",
    "# Group the data by 'Time' and sum 'Sales'\n",
    "time_sales = AM.groupby('Time')['Sales'].sum().reset_index()\n",
    "\n",
    "# Sort the results to identify highest and lowest sales times\n",
    "time_sales_sorted = time_sales.sort_values(by='Sales', ascending=False)\n",
    "\n",
    "# Print the time with the highest and lowest sales\n",
    "print(\"Highest sales during:\", time_sales_sorted.iloc[0]['Time'])\n",
    "print(\"Lowest sales during:\", time_sales_sorted.iloc[-1]['Time'])\n",
    "\n",
    "# Visualization\n",
    "plt.figure(figsize=(10, 6))\n",
    "sns.barplot(data=time_sales_sorted, x='Time', y='Sales', order=time_sales_sorted['Time'])\n",
    "plt.title('Sales by Time of the Day')\n",
    "plt.xlabel('Time of the Day')\n",
    "plt.ylabel('Total Sales')\n",
    "plt.show()\n"
   ]
  },
  {
   "cell_type": "code",
   "execution_count": null,
   "id": "48dafabe-840f-4dae-92d1-1312d7474f31",
   "metadata": {},
   "outputs": [],
   "source": []
  }
 ],
 "metadata": {
  "kernelspec": {
   "display_name": "Python 3 (ipykernel)",
   "language": "python",
   "name": "python3"
  },
  "language_info": {
   "codemirror_mode": {
    "name": "ipython",
    "version": 3
   },
   "file_extension": ".py",
   "mimetype": "text/x-python",
   "name": "python",
   "nbconvert_exporter": "python",
   "pygments_lexer": "ipython3",
   "version": "3.11.7"
  }
 },
 "nbformat": 4,
 "nbformat_minor": 5
}
