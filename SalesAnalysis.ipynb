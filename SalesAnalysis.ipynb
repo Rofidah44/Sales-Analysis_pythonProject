{
 "cells": [
  {
   "cell_type": "code",
   "execution_count": 31,
   "id": "4b4a5b65-451d-45ae-8389-ea8b4b48e64e",
   "metadata": {},
   "outputs": [],
   "source": [
    "import pandas as pd\n",
    "import numpy as np\n",
    "import seaborn as sns\n",
    "import matplotlib.pyplot as plt\n",
    "from sklearn.preprocessing import MinMaxScaler"
   ]
  },
  {
   "cell_type": "code",
   "execution_count": 32,
   "id": "79ec2df4-f665-4d72-b57f-3b7ee8f38f68",
   "metadata": {},
   "outputs": [],
   "source": [
    "# Load the data\n",
    "df = pd.read_csv(\"AusApparalSales4thQrt2020.csv\")"
   ]
  },
  {
   "cell_type": "code",
   "execution_count": 33,
   "id": "41de923e-9bbb-40e6-a71d-710083ed499f",
   "metadata": {
    "scrolled": true
   },
   "outputs": [
    {
     "data": {
      "text/html": [
       "<div>\n",
       "<style scoped>\n",
       "    .dataframe tbody tr th:only-of-type {\n",
       "        vertical-align: middle;\n",
       "    }\n",
       "\n",
       "    .dataframe tbody tr th {\n",
       "        vertical-align: top;\n",
       "    }\n",
       "\n",
       "    .dataframe thead th {\n",
       "        text-align: right;\n",
       "    }\n",
       "</style>\n",
       "<table border=\"1\" class=\"dataframe\">\n",
       "  <thead>\n",
       "    <tr style=\"text-align: right;\">\n",
       "      <th></th>\n",
       "      <th>Date</th>\n",
       "      <th>Time</th>\n",
       "      <th>State</th>\n",
       "      <th>Group</th>\n",
       "      <th>Unit</th>\n",
       "      <th>Sales</th>\n",
       "    </tr>\n",
       "  </thead>\n",
       "  <tbody>\n",
       "    <tr>\n",
       "      <th>0</th>\n",
       "      <td>1-Oct-2020</td>\n",
       "      <td>Morning</td>\n",
       "      <td>WA</td>\n",
       "      <td>Kids</td>\n",
       "      <td>8</td>\n",
       "      <td>20000</td>\n",
       "    </tr>\n",
       "    <tr>\n",
       "      <th>1</th>\n",
       "      <td>1-Oct-2020</td>\n",
       "      <td>Morning</td>\n",
       "      <td>WA</td>\n",
       "      <td>Men</td>\n",
       "      <td>8</td>\n",
       "      <td>20000</td>\n",
       "    </tr>\n",
       "    <tr>\n",
       "      <th>2</th>\n",
       "      <td>1-Oct-2020</td>\n",
       "      <td>Morning</td>\n",
       "      <td>WA</td>\n",
       "      <td>Women</td>\n",
       "      <td>4</td>\n",
       "      <td>10000</td>\n",
       "    </tr>\n",
       "    <tr>\n",
       "      <th>3</th>\n",
       "      <td>1-Oct-2020</td>\n",
       "      <td>Morning</td>\n",
       "      <td>WA</td>\n",
       "      <td>Seniors</td>\n",
       "      <td>15</td>\n",
       "      <td>37500</td>\n",
       "    </tr>\n",
       "    <tr>\n",
       "      <th>4</th>\n",
       "      <td>1-Oct-2020</td>\n",
       "      <td>Afternoon</td>\n",
       "      <td>WA</td>\n",
       "      <td>Kids</td>\n",
       "      <td>3</td>\n",
       "      <td>7500</td>\n",
       "    </tr>\n",
       "  </tbody>\n",
       "</table>\n",
       "</div>"
      ],
      "text/plain": [
       "         Date        Time State     Group  Unit  Sales\n",
       "0  1-Oct-2020     Morning    WA      Kids     8  20000\n",
       "1  1-Oct-2020     Morning    WA       Men     8  20000\n",
       "2  1-Oct-2020     Morning    WA     Women     4  10000\n",
       "3  1-Oct-2020     Morning    WA   Seniors    15  37500\n",
       "4  1-Oct-2020   Afternoon    WA      Kids     3   7500"
      ]
     },
     "execution_count": 33,
     "metadata": {},
     "output_type": "execute_result"
    }
   ],
   "source": [
    "# Display the first few rows of the data\n",
    "df.head()"
   ]
  },
  {
   "cell_type": "markdown",
   "id": "ad3d306f-6665-43e0-ae1f-d2605084db89",
   "metadata": {},
   "source": [
    "## 1.Data Wrangling"
   ]
  },
  {
   "cell_type": "code",
   "execution_count": 35,
   "id": "1c2467cb-abf9-4750-ad82-f38f99e1428c",
   "metadata": {
    "scrolled": true
   },
   "outputs": [
    {
     "name": "stdout",
     "output_type": "stream",
     "text": [
      "Data types of each column:\n",
      "Date     object\n",
      "Time     object\n",
      "State    object\n",
      "Group    object\n",
      "Unit      int64\n",
      "Sales     int64\n",
      "dtype: object\n"
     ]
    }
   ],
   "source": [
    "# Check for incorrect data\n",
    "print(\"Data types of each column:\")\n",
    "print(df.dtypes)"
   ]
  },
  {
   "cell_type": "code",
   "execution_count": 36,
   "id": "1b53a135-1eb7-4da0-93b6-2c0c435090cf",
   "metadata": {},
   "outputs": [],
   "source": [
    "# Convert object to string\n",
    "df['Time'] = df['Time'].astype('string')\n",
    "df['State'] = df['State'].astype('string')\n",
    "df['Group'] = df['Group'].astype('string')"
   ]
  },
  {
   "cell_type": "code",
   "execution_count": 37,
   "id": "0631a79b-8607-447b-bf2e-2c073115c7ac",
   "metadata": {},
   "outputs": [],
   "source": [
    "# Convert Date to datetime\n",
    "df['Date'] = pd.to_datetime(df['Date'], errors='coerce')"
   ]
  },
  {
   "cell_type": "code",
   "execution_count": 38,
   "id": "6890d655-cbbb-45f5-8de9-7b45ce085bba",
   "metadata": {},
   "outputs": [
    {
     "data": {
      "text/plain": [
       "Date     datetime64[ns]\n",
       "Time     string[python]\n",
       "State    string[python]\n",
       "Group    string[python]\n",
       "Unit              int64\n",
       "Sales             int64\n",
       "dtype: object"
      ]
     },
     "execution_count": 38,
     "metadata": {},
     "output_type": "execute_result"
    }
   ],
   "source": [
    "df.dtypes"
   ]
  },
  {
   "cell_type": "code",
   "execution_count": 39,
   "id": "59b5ae17-5399-45b4-af1f-f9f9be957796",
   "metadata": {
    "scrolled": true
   },
   "outputs": [
    {
     "name": "stdout",
     "output_type": "stream",
     "text": [
      "Missing values per column by use isna():\n",
      "Date     0\n",
      "Time     0\n",
      "State    0\n",
      "Group    0\n",
      "Unit     0\n",
      "Sales    0\n",
      "dtype: int64\n"
     ]
    }
   ],
   "source": [
    "# Check for missing values\n",
    "print(\"Missing values per column by use isna():\")\n",
    "print(df.isna().sum())"
   ]
  },
  {
   "cell_type": "code",
   "execution_count": 40,
   "id": "eb98ebc5-6cbe-4adb-a65c-1b8f845b23a7",
   "metadata": {},
   "outputs": [
    {
     "name": "stdout",
     "output_type": "stream",
     "text": [
      "Empty DataFrame\n",
      "Columns: [Date, Time, State, Group, Unit, Sales]\n",
      "Index: []\n"
     ]
    }
   ],
   "source": [
    "print(df[df.duplicated()])"
   ]
  },
  {
   "cell_type": "code",
   "execution_count": 41,
   "id": "866d8930-7a6c-4899-b852-d4a461cd7c73",
   "metadata": {},
   "outputs": [],
   "source": [
    "#replace space to NULL if found in the datafram\n",
    "df = df.replace(\" \", np.nan).replace(\"N/A\", np.nan).replace(\"NA\", np.nan)"
   ]
  },
  {
   "cell_type": "code",
   "execution_count": 42,
   "id": "98a56f4b-7f31-4851-8285-ce67ee92f9a7",
   "metadata": {
    "scrolled": true
   },
   "outputs": [
    {
     "data": {
      "text/html": [
       "<div>\n",
       "<style scoped>\n",
       "    .dataframe tbody tr th:only-of-type {\n",
       "        vertical-align: middle;\n",
       "    }\n",
       "\n",
       "    .dataframe tbody tr th {\n",
       "        vertical-align: top;\n",
       "    }\n",
       "\n",
       "    .dataframe thead th {\n",
       "        text-align: right;\n",
       "    }\n",
       "</style>\n",
       "<table border=\"1\" class=\"dataframe\">\n",
       "  <thead>\n",
       "    <tr style=\"text-align: right;\">\n",
       "      <th></th>\n",
       "      <th>Date</th>\n",
       "      <th>Unit</th>\n",
       "      <th>Sales</th>\n",
       "      <th>normalized_Unit</th>\n",
       "      <th>normalized_Sales</th>\n",
       "    </tr>\n",
       "  </thead>\n",
       "  <tbody>\n",
       "    <tr>\n",
       "      <th>count</th>\n",
       "      <td>7560</td>\n",
       "      <td>7560.000000</td>\n",
       "      <td>7560.000000</td>\n",
       "      <td>7560.000000</td>\n",
       "      <td>7560.000000</td>\n",
       "    </tr>\n",
       "    <tr>\n",
       "      <th>mean</th>\n",
       "      <td>2020-11-15 04:00:00.000000256</td>\n",
       "      <td>18.005423</td>\n",
       "      <td>45013.558201</td>\n",
       "      <td>0.254054</td>\n",
       "      <td>0.254054</td>\n",
       "    </tr>\n",
       "    <tr>\n",
       "      <th>min</th>\n",
       "      <td>2020-10-01 00:00:00</td>\n",
       "      <td>2.000000</td>\n",
       "      <td>5000.000000</td>\n",
       "      <td>0.000000</td>\n",
       "      <td>0.000000</td>\n",
       "    </tr>\n",
       "    <tr>\n",
       "      <th>25%</th>\n",
       "      <td>2020-10-23 00:00:00</td>\n",
       "      <td>8.000000</td>\n",
       "      <td>20000.000000</td>\n",
       "      <td>0.095238</td>\n",
       "      <td>0.095238</td>\n",
       "    </tr>\n",
       "    <tr>\n",
       "      <th>50%</th>\n",
       "      <td>2020-11-15 12:00:00</td>\n",
       "      <td>14.000000</td>\n",
       "      <td>35000.000000</td>\n",
       "      <td>0.190476</td>\n",
       "      <td>0.190476</td>\n",
       "    </tr>\n",
       "    <tr>\n",
       "      <th>75%</th>\n",
       "      <td>2020-12-08 00:00:00</td>\n",
       "      <td>26.000000</td>\n",
       "      <td>65000.000000</td>\n",
       "      <td>0.380952</td>\n",
       "      <td>0.380952</td>\n",
       "    </tr>\n",
       "    <tr>\n",
       "      <th>max</th>\n",
       "      <td>2020-12-30 00:00:00</td>\n",
       "      <td>65.000000</td>\n",
       "      <td>162500.000000</td>\n",
       "      <td>1.000000</td>\n",
       "      <td>1.000000</td>\n",
       "    </tr>\n",
       "    <tr>\n",
       "      <th>std</th>\n",
       "      <td>NaN</td>\n",
       "      <td>12.901403</td>\n",
       "      <td>32253.506944</td>\n",
       "      <td>0.204784</td>\n",
       "      <td>0.204784</td>\n",
       "    </tr>\n",
       "  </tbody>\n",
       "</table>\n",
       "</div>"
      ],
      "text/plain": [
       "                                Date         Unit          Sales  \\\n",
       "count                           7560  7560.000000    7560.000000   \n",
       "mean   2020-11-15 04:00:00.000000256    18.005423   45013.558201   \n",
       "min              2020-10-01 00:00:00     2.000000    5000.000000   \n",
       "25%              2020-10-23 00:00:00     8.000000   20000.000000   \n",
       "50%              2020-11-15 12:00:00    14.000000   35000.000000   \n",
       "75%              2020-12-08 00:00:00    26.000000   65000.000000   \n",
       "max              2020-12-30 00:00:00    65.000000  162500.000000   \n",
       "std                              NaN    12.901403   32253.506944   \n",
       "\n",
       "       normalized_Unit  normalized_Sales  \n",
       "count      7560.000000       7560.000000  \n",
       "mean          0.254054          0.254054  \n",
       "min           0.000000          0.000000  \n",
       "25%           0.095238          0.095238  \n",
       "50%           0.190476          0.190476  \n",
       "75%           0.380952          0.380952  \n",
       "max           1.000000          1.000000  \n",
       "std           0.204784          0.204784  "
      ]
     },
     "execution_count": 42,
     "metadata": {},
     "output_type": "execute_result"
    }
   ],
   "source": [
    "# Initialize the MinMaxScaler\n",
    "scaler = MinMaxScaler()\n",
    "\n",
    "# Fit and transform the 'Unit' column and add it to the DataFrame\n",
    "df['normalized_Unit'] = scaler.fit_transform(df[['Unit']])\n",
    "\n",
    "# Fit and transform the 'Sales' column and add it to the DataFrame\n",
    "df['normalized_Sales'] = scaler.fit_transform(df[['Sales']])\n",
    "\n",
    "df.describe()"
   ]
  },
  {
   "cell_type": "markdown",
   "id": "444420ce-6acb-4e33-9e0d-ff21169f8503",
   "metadata": {},
   "source": [
    "## 2.Data Analysis"
   ]
  },
  {
   "cell_type": "code",
   "execution_count": 44,
   "id": "dcf50724-18f9-48c3-955b-c17ba9f90116",
   "metadata": {},
   "outputs": [
    {
     "data": {
      "text/html": [
       "<div>\n",
       "<style scoped>\n",
       "    .dataframe tbody tr th:only-of-type {\n",
       "        vertical-align: middle;\n",
       "    }\n",
       "\n",
       "    .dataframe tbody tr th {\n",
       "        vertical-align: top;\n",
       "    }\n",
       "\n",
       "    .dataframe thead th {\n",
       "        text-align: right;\n",
       "    }\n",
       "</style>\n",
       "<table border=\"1\" class=\"dataframe\">\n",
       "  <thead>\n",
       "    <tr style=\"text-align: right;\">\n",
       "      <th></th>\n",
       "      <th>count</th>\n",
       "      <th>mean</th>\n",
       "      <th>std</th>\n",
       "      <th>min</th>\n",
       "      <th>25%</th>\n",
       "      <th>50%</th>\n",
       "      <th>75%</th>\n",
       "      <th>max</th>\n",
       "    </tr>\n",
       "  </thead>\n",
       "  <tbody>\n",
       "    <tr>\n",
       "      <th>Sales</th>\n",
       "      <td>7560.0</td>\n",
       "      <td>45013.558201</td>\n",
       "      <td>32253.506944</td>\n",
       "      <td>5000.0</td>\n",
       "      <td>20000.0</td>\n",
       "      <td>35000.0</td>\n",
       "      <td>65000.0</td>\n",
       "      <td>162500.0</td>\n",
       "    </tr>\n",
       "  </tbody>\n",
       "</table>\n",
       "</div>"
      ],
      "text/plain": [
       "        count          mean           std     min      25%      50%      75%  \\\n",
       "Sales  7560.0  45013.558201  32253.506944  5000.0  20000.0  35000.0  65000.0   \n",
       "\n",
       "            max  \n",
       "Sales  162500.0  "
      ]
     },
     "execution_count": 44,
     "metadata": {},
     "output_type": "execute_result"
    }
   ],
   "source": [
    "# Descriptive statistics for the 'Sales' column\n",
    "sales_stats = df['Sales'].describe().to_frame().transpose()\n",
    "\n",
    "# Output the results for Sales\n",
    "sales_stats"
   ]
  },
  {
   "cell_type": "code",
   "execution_count": 45,
   "id": "0fcc8eed-03b8-42ee-9682-06fcd8a0bd7e",
   "metadata": {},
   "outputs": [
    {
     "data": {
      "text/html": [
       "<div>\n",
       "<style scoped>\n",
       "    .dataframe tbody tr th:only-of-type {\n",
       "        vertical-align: middle;\n",
       "    }\n",
       "\n",
       "    .dataframe tbody tr th {\n",
       "        vertical-align: top;\n",
       "    }\n",
       "\n",
       "    .dataframe thead th {\n",
       "        text-align: right;\n",
       "    }\n",
       "</style>\n",
       "<table border=\"1\" class=\"dataframe\">\n",
       "  <thead>\n",
       "    <tr style=\"text-align: right;\">\n",
       "      <th></th>\n",
       "      <th>count</th>\n",
       "      <th>mean</th>\n",
       "      <th>std</th>\n",
       "      <th>min</th>\n",
       "      <th>25%</th>\n",
       "      <th>50%</th>\n",
       "      <th>75%</th>\n",
       "      <th>max</th>\n",
       "    </tr>\n",
       "  </thead>\n",
       "  <tbody>\n",
       "    <tr>\n",
       "      <th>Unit</th>\n",
       "      <td>7560.0</td>\n",
       "      <td>18.005423</td>\n",
       "      <td>12.901403</td>\n",
       "      <td>2.0</td>\n",
       "      <td>8.0</td>\n",
       "      <td>14.0</td>\n",
       "      <td>26.0</td>\n",
       "      <td>65.0</td>\n",
       "    </tr>\n",
       "  </tbody>\n",
       "</table>\n",
       "</div>"
      ],
      "text/plain": [
       "       count       mean        std  min  25%   50%   75%   max\n",
       "Unit  7560.0  18.005423  12.901403  2.0  8.0  14.0  26.0  65.0"
      ]
     },
     "execution_count": 45,
     "metadata": {},
     "output_type": "execute_result"
    }
   ],
   "source": [
    "# Descriptive statistics for the 'Unit' column\n",
    "unit_stats = df['Unit'].describe().to_frame().transpose()\n",
    "\n",
    "# Output the results for Unit\n",
    "unit_stats"
   ]
  },
  {
   "cell_type": "code",
   "execution_count": 46,
   "id": "859fcffb-e59f-46a0-b706-b6c3c963d009",
   "metadata": {},
   "outputs": [
    {
     "name": "stdout",
     "output_type": "stream",
     "text": [
      "The group ' Men' generates the highest sales, while the group ' Seniors' generates the lowest sales.\n"
     ]
    }
   ],
   "source": [
    "grouped_sales = df.groupby('Group').Sales.sum()\n",
    "\n",
    "# Find the group names with maximum and minimum sales\n",
    "group_max_sales = grouped_sales.idxmax()\n",
    "group_min_sales = grouped_sales.idxmin()\n",
    "\n",
    "print(f\"The group '{group_max_sales}' generates the highest sales, while the group '{group_min_sales}' generates the lowest sales.\")"
   ]
  },
  {
   "cell_type": "code",
   "execution_count": 47,
   "id": "2cfdd84d-ca02-4f0a-9664-ee5b869e36ff",
   "metadata": {},
   "outputs": [
    {
     "name": "stdout",
     "output_type": "stream",
     "text": [
      "The state ' VIC' generates the highest sales, while the state ' WA' generates the lowest sales.\n"
     ]
    }
   ],
   "source": [
    "state_sales = df.groupby('State').Sales.sum()\n",
    "\n",
    "# Find the state with maximum and minimum sales\n",
    "state_max_sales = state_sales.idxmax()\n",
    "state_min_sales = state_sales.idxmin()\n",
    "\n",
    "print(f\"The state '{state_max_sales}' generates the highest sales, while the state '{state_min_sales}' generates the lowest sales.\")"
   ]
  },
  {
   "cell_type": "code",
   "execution_count": 48,
   "id": "50762610-61e2-4cea-94e2-41f60a1a8cc2",
   "metadata": {},
   "outputs": [
    {
     "name": "stdout",
     "output_type": "stream",
     "text": [
      "daily Report:\n"
     ]
    },
    {
     "data": {
      "text/html": [
       "<div>\n",
       "<style scoped>\n",
       "    .dataframe tbody tr th:only-of-type {\n",
       "        vertical-align: middle;\n",
       "    }\n",
       "\n",
       "    .dataframe tbody tr th {\n",
       "        vertical-align: top;\n",
       "    }\n",
       "\n",
       "    .dataframe thead th {\n",
       "        text-align: right;\n",
       "    }\n",
       "</style>\n",
       "<table border=\"1\" class=\"dataframe\">\n",
       "  <thead>\n",
       "    <tr style=\"text-align: right;\">\n",
       "      <th></th>\n",
       "      <th>Sales</th>\n",
       "      <th>Unit</th>\n",
       "    </tr>\n",
       "    <tr>\n",
       "      <th>Date</th>\n",
       "      <th></th>\n",
       "      <th></th>\n",
       "    </tr>\n",
       "  </thead>\n",
       "  <tbody>\n",
       "    <tr>\n",
       "      <th>2020-10-01</th>\n",
       "      <td>3720000</td>\n",
       "      <td>17.714286</td>\n",
       "    </tr>\n",
       "    <tr>\n",
       "      <th>2020-10-02</th>\n",
       "      <td>3715000</td>\n",
       "      <td>17.690476</td>\n",
       "    </tr>\n",
       "    <tr>\n",
       "      <th>2020-10-03</th>\n",
       "      <td>3890000</td>\n",
       "      <td>18.523810</td>\n",
       "    </tr>\n",
       "    <tr>\n",
       "      <th>2020-10-04</th>\n",
       "      <td>3720000</td>\n",
       "      <td>17.714286</td>\n",
       "    </tr>\n",
       "    <tr>\n",
       "      <th>2020-10-05</th>\n",
       "      <td>3862500</td>\n",
       "      <td>18.392857</td>\n",
       "    </tr>\n",
       "    <tr>\n",
       "      <th>...</th>\n",
       "      <td>...</td>\n",
       "      <td>...</td>\n",
       "    </tr>\n",
       "    <tr>\n",
       "      <th>2020-12-26</th>\n",
       "      <td>4715000</td>\n",
       "      <td>22.452381</td>\n",
       "    </tr>\n",
       "    <tr>\n",
       "      <th>2020-12-27</th>\n",
       "      <td>4637500</td>\n",
       "      <td>22.083333</td>\n",
       "    </tr>\n",
       "    <tr>\n",
       "      <th>2020-12-28</th>\n",
       "      <td>4595000</td>\n",
       "      <td>21.880952</td>\n",
       "    </tr>\n",
       "    <tr>\n",
       "      <th>2020-12-29</th>\n",
       "      <td>4607500</td>\n",
       "      <td>21.940476</td>\n",
       "    </tr>\n",
       "    <tr>\n",
       "      <th>2020-12-30</th>\n",
       "      <td>4590000</td>\n",
       "      <td>21.857143</td>\n",
       "    </tr>\n",
       "  </tbody>\n",
       "</table>\n",
       "<p>91 rows × 2 columns</p>\n",
       "</div>"
      ],
      "text/plain": [
       "              Sales       Unit\n",
       "Date                          \n",
       "2020-10-01  3720000  17.714286\n",
       "2020-10-02  3715000  17.690476\n",
       "2020-10-03  3890000  18.523810\n",
       "2020-10-04  3720000  17.714286\n",
       "2020-10-05  3862500  18.392857\n",
       "...             ...        ...\n",
       "2020-12-26  4715000  22.452381\n",
       "2020-12-27  4637500  22.083333\n",
       "2020-12-28  4595000  21.880952\n",
       "2020-12-29  4607500  21.940476\n",
       "2020-12-30  4590000  21.857143\n",
       "\n",
       "[91 rows x 2 columns]"
      ]
     },
     "execution_count": 48,
     "metadata": {},
     "output_type": "execute_result"
    }
   ],
   "source": [
    "daily_sales = df.set_index('Date').resample('D').agg({'Sales': 'sum', 'Unit': 'mean'})\n",
    "print(\"daily Report:\")\n",
    "daily_sales"
   ]
  },
  {
   "cell_type": "code",
   "execution_count": 49,
   "id": "a965902d-65ba-453a-ac51-92072b28e350",
   "metadata": {},
   "outputs": [
    {
     "name": "stdout",
     "output_type": "stream",
     "text": [
      "Weekly Report:\n"
     ]
    },
    {
     "data": {
      "text/html": [
       "<div>\n",
       "<style scoped>\n",
       "    .dataframe tbody tr th:only-of-type {\n",
       "        vertical-align: middle;\n",
       "    }\n",
       "\n",
       "    .dataframe tbody tr th {\n",
       "        vertical-align: top;\n",
       "    }\n",
       "\n",
       "    .dataframe thead th {\n",
       "        text-align: right;\n",
       "    }\n",
       "</style>\n",
       "<table border=\"1\" class=\"dataframe\">\n",
       "  <thead>\n",
       "    <tr style=\"text-align: right;\">\n",
       "      <th></th>\n",
       "      <th>Sales</th>\n",
       "      <th>Unit</th>\n",
       "    </tr>\n",
       "    <tr>\n",
       "      <th>Date</th>\n",
       "      <th></th>\n",
       "      <th></th>\n",
       "    </tr>\n",
       "  </thead>\n",
       "  <tbody>\n",
       "    <tr>\n",
       "      <th>2020-10-04</th>\n",
       "      <td>15045000</td>\n",
       "      <td>17.910714</td>\n",
       "    </tr>\n",
       "    <tr>\n",
       "      <th>2020-10-11</th>\n",
       "      <td>27002500</td>\n",
       "      <td>18.369048</td>\n",
       "    </tr>\n",
       "    <tr>\n",
       "      <th>2020-10-18</th>\n",
       "      <td>26640000</td>\n",
       "      <td>18.122449</td>\n",
       "    </tr>\n",
       "    <tr>\n",
       "      <th>2020-10-25</th>\n",
       "      <td>26815000</td>\n",
       "      <td>18.241497</td>\n",
       "    </tr>\n",
       "    <tr>\n",
       "      <th>2020-11-01</th>\n",
       "      <td>21807500</td>\n",
       "      <td>17.307540</td>\n",
       "    </tr>\n",
       "    <tr>\n",
       "      <th>2020-11-08</th>\n",
       "      <td>20865000</td>\n",
       "      <td>14.193878</td>\n",
       "    </tr>\n",
       "    <tr>\n",
       "      <th>2020-11-15</th>\n",
       "      <td>21172500</td>\n",
       "      <td>14.403061</td>\n",
       "    </tr>\n",
       "    <tr>\n",
       "      <th>2020-11-22</th>\n",
       "      <td>21112500</td>\n",
       "      <td>14.362245</td>\n",
       "    </tr>\n",
       "    <tr>\n",
       "      <th>2020-11-29</th>\n",
       "      <td>21477500</td>\n",
       "      <td>14.610544</td>\n",
       "    </tr>\n",
       "    <tr>\n",
       "      <th>2020-12-06</th>\n",
       "      <td>29622500</td>\n",
       "      <td>20.151361</td>\n",
       "    </tr>\n",
       "    <tr>\n",
       "      <th>2020-12-13</th>\n",
       "      <td>31525000</td>\n",
       "      <td>21.445578</td>\n",
       "    </tr>\n",
       "    <tr>\n",
       "      <th>2020-12-20</th>\n",
       "      <td>31655000</td>\n",
       "      <td>21.534014</td>\n",
       "    </tr>\n",
       "    <tr>\n",
       "      <th>2020-12-27</th>\n",
       "      <td>31770000</td>\n",
       "      <td>21.612245</td>\n",
       "    </tr>\n",
       "    <tr>\n",
       "      <th>2021-01-03</th>\n",
       "      <td>13792500</td>\n",
       "      <td>21.892857</td>\n",
       "    </tr>\n",
       "  </tbody>\n",
       "</table>\n",
       "</div>"
      ],
      "text/plain": [
       "               Sales       Unit\n",
       "Date                           \n",
       "2020-10-04  15045000  17.910714\n",
       "2020-10-11  27002500  18.369048\n",
       "2020-10-18  26640000  18.122449\n",
       "2020-10-25  26815000  18.241497\n",
       "2020-11-01  21807500  17.307540\n",
       "2020-11-08  20865000  14.193878\n",
       "2020-11-15  21172500  14.403061\n",
       "2020-11-22  21112500  14.362245\n",
       "2020-11-29  21477500  14.610544\n",
       "2020-12-06  29622500  20.151361\n",
       "2020-12-13  31525000  21.445578\n",
       "2020-12-20  31655000  21.534014\n",
       "2020-12-27  31770000  21.612245\n",
       "2021-01-03  13792500  21.892857"
      ]
     },
     "execution_count": 49,
     "metadata": {},
     "output_type": "execute_result"
    }
   ],
   "source": [
    "#Weekly Report\n",
    "weekly_sales = df.set_index('Date').resample('W').agg({'Sales': 'sum', 'Unit': 'mean'})\n",
    "print(\"Weekly Report:\")\n",
    "weekly_sales"
   ]
  },
  {
   "cell_type": "code",
   "execution_count": 50,
   "id": "7eeef7f7-e2e6-4d51-8598-223c79dd860a",
   "metadata": {},
   "outputs": [
    {
     "name": "stdout",
     "output_type": "stream",
     "text": [
      "Monthly Report:\n"
     ]
    },
    {
     "data": {
      "text/html": [
       "<div>\n",
       "<style scoped>\n",
       "    .dataframe tbody tr th:only-of-type {\n",
       "        vertical-align: middle;\n",
       "    }\n",
       "\n",
       "    .dataframe tbody tr th {\n",
       "        vertical-align: top;\n",
       "    }\n",
       "\n",
       "    .dataframe thead th {\n",
       "        text-align: right;\n",
       "    }\n",
       "</style>\n",
       "<table border=\"1\" class=\"dataframe\">\n",
       "  <thead>\n",
       "    <tr style=\"text-align: right;\">\n",
       "      <th></th>\n",
       "      <th>Sales</th>\n",
       "      <th>Unit</th>\n",
       "    </tr>\n",
       "    <tr>\n",
       "      <th>Date</th>\n",
       "      <th></th>\n",
       "      <th></th>\n",
       "    </tr>\n",
       "  </thead>\n",
       "  <tbody>\n",
       "    <tr>\n",
       "      <th>2020-10-31</th>\n",
       "      <td>114290000</td>\n",
       "      <td>18.141270</td>\n",
       "    </tr>\n",
       "    <tr>\n",
       "      <th>2020-11-30</th>\n",
       "      <td>90682500</td>\n",
       "      <td>14.394048</td>\n",
       "    </tr>\n",
       "    <tr>\n",
       "      <th>2020-12-31</th>\n",
       "      <td>135330000</td>\n",
       "      <td>21.480952</td>\n",
       "    </tr>\n",
       "  </tbody>\n",
       "</table>\n",
       "</div>"
      ],
      "text/plain": [
       "                Sales       Unit\n",
       "Date                            \n",
       "2020-10-31  114290000  18.141270\n",
       "2020-11-30   90682500  14.394048\n",
       "2020-12-31  135330000  21.480952"
      ]
     },
     "execution_count": 50,
     "metadata": {},
     "output_type": "execute_result"
    }
   ],
   "source": [
    "#Monthly Report\n",
    "monthly_sales = df.set_index('Date').resample('M').agg({'Sales': 'sum', 'Unit': 'mean'})\n",
    "print(\"Monthly Report:\")\n",
    "monthly_sales"
   ]
  },
  {
   "cell_type": "code",
   "execution_count": 51,
   "id": "e06aa5b3-75e2-4274-8297-ccc62e1fabe6",
   "metadata": {},
   "outputs": [
    {
     "name": "stdout",
     "output_type": "stream",
     "text": [
      "Quarterly Report:\n"
     ]
    },
    {
     "data": {
      "text/html": [
       "<div>\n",
       "<style scoped>\n",
       "    .dataframe tbody tr th:only-of-type {\n",
       "        vertical-align: middle;\n",
       "    }\n",
       "\n",
       "    .dataframe tbody tr th {\n",
       "        vertical-align: top;\n",
       "    }\n",
       "\n",
       "    .dataframe thead th {\n",
       "        text-align: right;\n",
       "    }\n",
       "</style>\n",
       "<table border=\"1\" class=\"dataframe\">\n",
       "  <thead>\n",
       "    <tr style=\"text-align: right;\">\n",
       "      <th></th>\n",
       "      <th>Sales</th>\n",
       "      <th>Unit</th>\n",
       "    </tr>\n",
       "    <tr>\n",
       "      <th>Date</th>\n",
       "      <th></th>\n",
       "      <th></th>\n",
       "    </tr>\n",
       "  </thead>\n",
       "  <tbody>\n",
       "    <tr>\n",
       "      <th>2020-12-31</th>\n",
       "      <td>340302500</td>\n",
       "      <td>18.005423</td>\n",
       "    </tr>\n",
       "  </tbody>\n",
       "</table>\n",
       "</div>"
      ],
      "text/plain": [
       "                Sales       Unit\n",
       "Date                            \n",
       "2020-12-31  340302500  18.005423"
      ]
     },
     "execution_count": 51,
     "metadata": {},
     "output_type": "execute_result"
    }
   ],
   "source": [
    "#Quarterly Report\n",
    "quarterly_sales = df.set_index('Date').resample('Q').agg({'Sales': 'sum', 'Unit': 'mean'})\n",
    "print(\"Quarterly Report:\")\n",
    "quarterly_sales"
   ]
  },
  {
   "cell_type": "code",
   "execution_count": 67,
   "id": "4c4b7585-b48d-4cb1-98b9-24a9f32f07a1",
   "metadata": {},
   "outputs": [
    {
     "name": "stdout",
     "output_type": "stream",
     "text": [
      "Highest sales during:  Morning\n",
      "Lowest sales during:  Evening\n"
     ]
    }
   ],
   "source": [
    "# Print the time with the highest and lowest sales\n",
    "print(\"Highest sales during:\", time_sales_sorted.iloc[0]['Time'])\n",
    "print(\"Lowest sales during:\", time_sales_sorted.iloc[-1]['Time'])"
   ]
  },
  {
   "cell_type": "markdown",
   "id": "06ff14c2-a9ee-4007-9166-2a65d4bd929e",
   "metadata": {},
   "source": [
    "## 3.Data Visualization"
   ]
  },
  {
   "cell_type": "code",
   "execution_count": 61,
   "id": "e54406dc-e9ba-47ae-8fd1-ddfd0138d8ed",
   "metadata": {},
   "outputs": [
    {
     "data": {
      "image/png": "[encoded data removed]",
      "text/plain": [
       "<Figure size 1200x600 with 1 Axes>"
      ]
     },
     "metadata": {},
     "output_type": "display_data"
    }
   ],
   "source": [
    "# Define custom color palette\n",
    "custom_palette = [\"#6497b1\", \"#03396c\", \"#005b96\", \"#011f4b\"]  # Add your desired colors here\n",
    "\n",
    "# State-wise sales analysis for different groups\n",
    "plt.figure(figsize=(12, 6))\n",
    "sns.barplot(x='State', y='Sales', hue='Group', data=df, palette=custom_palette)\n",
    "plt.title('State-wise Sales Analysis for Different Groups')\n",
    "plt.xlabel('State')\n",
    "plt.ylabel('Sales')\n",
    "plt.xticks(rotation=45)\n",
    "plt.legend(title='Group')\n",
    "plt.tight_layout()\n",
    "plt.show()"
   ]
  },
  {
   "cell_type": "code",
   "execution_count": 63,
   "id": "74626395-a015-4ee0-8913-2ef29318c8a2",
   "metadata": {},
   "outputs": [
    {
     "data": {
      "image/png": "[encoded data removed]",
      "text/plain": [
       "<Figure size 1200x600 with 1 Axes>"
      ]
     },
     "metadata": {},
     "output_type": "display_data"
    }
   ],
   "source": [
    "# Group-wise sales analysis across different states \n",
    "custom_palette = [\"#03045e\", \"#023e8a\", \"#0077b6\", \"#0096c7\", \"#00b4d8\", \"#48cae4\", \"#90e0ef\"]\n",
    "\n",
    "plt.figure(figsize=(12, 6))\n",
    "sns.barplot(x='Group', y='Sales', hue='State', data=df, palette=custom_palette)\n",
    "plt.title('Group-wise Sales Analysis Across Different States')\n",
    "plt.xlabel('Group')\n",
    "plt.ylabel('Sales')\n",
    "plt.xticks(rotation=45)\n",
    "plt.legend(title='State')\n",
    "plt.tight_layout()\n",
    "plt.show()\n"
   ]
  },
  {
   "cell_type": "code",
   "execution_count": 66,
   "id": "6928d03e-c89e-4631-934a-0921219828b0",
   "metadata": {},
   "outputs": [
    {
     "data": {
      "image/png": "[encoded data removed]",
      "text/plain": [
       "<Figure size 1000x600 with 1 Axes>"
      ]
     },
     "metadata": {},
     "output_type": "display_data"
    }
   ],
   "source": [
    "# Group the data by 'Time' and sum 'Sales'\n",
    "time_sales = df.groupby('Time')['Sales'].sum().reset_index()\n",
    "\n",
    "# Sort the results to identify highest and lowest sales times\n",
    "time_sales_sorted = time_sales.sort_values(by='Sales', ascending=False)\n",
    "\n",
    "custom_palette = [\"#283044\", \"#78a1bb\", \"#D5DED7\"]\n",
    "\n",
    "# Visualization\n",
    "plt.figure(figsize=(10, 6))\n",
    "sns.barplot(data=time_sales_sorted, x='Time', y='Sales', order=time_sales_sorted['Time'], palette=custom_palette)\n",
    "plt.title('Sales by Time of the Day')\n",
    "plt.xlabel('Time of the Day')\n",
    "plt.ylabel('Total Sales')\n",
    "plt.show()"
   ]
  },
  {
   "cell_type": "code",
   "execution_count": null,
   "id": "4e1b100d-f276-4f8f-8b93-90b76abb9550",
   "metadata": {},
   "outputs": [],
   "source": []
  }
 ],
 "metadata": {
  "kernelspec": {
   "display_name": "Python 3 (ipykernel)",
   "language": "python",
   "name": "python3"
  },
  "language_info": {
   "codemirror_mode": {
    "name": "ipython",
    "version": 3
   },
   "file_extension": ".py",
   "mimetype": "text/x-python",
   "name": "python",
   "nbconvert_exporter": "python",
   "pygments_lexer": "ipython3",
   "version": "3.11.7"
  }
 },
 "nbformat": 4,
 "nbformat_minor": 5
}
